{
 "cells": [
  {
   "cell_type": "markdown",
   "id": "f0d7572865e5f731",
   "metadata": {},
   "source": [
    "# Neo4j GraphRAG Retriever Notebook\n",
    "\n",
    "This notebook demonstrates how to use various retrievers and Cypher patterns with Neo4j GraphRAG for asset manager and cybersecurity risk retrieval.\n"
   ]
  },
  {
   "cell_type": "code",
   "execution_count": null,
   "id": "f7bdead0",
   "metadata": {},
   "outputs": [],
   "source": [
    "%pip install -r requirements.txt"
   ]
  },
  {
   "cell_type": "code",
   "execution_count": null,
   "id": "71a2f5da46296427",
   "metadata": {
    "ExecuteTime": {
     "end_time": "2025-05-15T17:22:11.457735Z",
     "start_time": "2025-05-15T17:22:09.319068Z"
    }
   },
   "outputs": [],
   "source": [
    "import os\n",
    "from neo4j import GraphDatabase\n",
    "from neo4j_graphrag.llm import OpenAILLM\n",
    "from neo4j_graphrag.embeddings import OpenAIEmbeddings\n",
    "from neo4j_graphrag.retrievers import VectorRetriever, VectorCypherRetriever, Text2CypherRetriever\n",
    "from neo4j_graphrag.generation import GraphRAG\n",
    "from neo4j_graphrag.schema import get_schema\n",
    "from dotenv import load_dotenv\n",
    "import pandas as pd\n",
    "from IPython.display import display, HTML\n",
    "import textwrap\n",
    "\n",
    "from IPython.core.display import HTML\n",
    "display(HTML(\"<style>.output_area pre {white-space: pre-wrap; word-break: break-word;}</style>\"))\n",
    "\n",
    "# Load environment variables\n",
    "load_dotenv()\n",
    "NEO4J_URI = os.getenv('NEO4J_URI')\n",
    "NEO4J_USER = os.getenv('NEO4J_USERNAME')\n",
    "NEO4J_PASSWORD = os.getenv('NEO4J_PASSWORD')\n",
    "OPENAI_API_KEY = os.getenv('OPENAI_API_KEY')\n",
    "\n",
    "driver = GraphDatabase.driver(NEO4J_URI, auth=(NEO4J_USER, NEO4J_PASSWORD))\n"
   ]
  },
  {
   "cell_type": "markdown",
   "id": "e4a11b68",
   "metadata": {},
   "source": [
    "## Initialize LLM and Embedder\n",
    "\n",
    "This section sets up the Large Language Model (LLM) and the embedding model for use in retrieval-augmented generation (RAG) workflows.\n",
    "\n",
    "- **LLM**: Uses OpenAI's GPT-4o model via the `OpenAILLM` interface.\n",
    "- **Embedder**: Uses OpenAI's embedding API via the `OpenAIEmbeddings` class.\n",
    "\n",
    "> **Note:**  \n",
    "> - The `OPENAI_API_KEY` must be set in your environment variables or [.env](cci:7://file:///c:/Users/Alison%20Cossette/OneDrive/GitHub/graphrag-ebook/.env:0:0-0:0) file.\n",
    "> - You can adjust model parameters (such as response format or temperature) by modifying the commented-out `model_params` dictionary if needed.\n"
   ]
  },
  {
   "cell_type": "code",
   "execution_count": null,
   "id": "39b8b915ee9c5629",
   "metadata": {
    "ExecuteTime": {
     "end_time": "2025-05-15T17:22:13.848760Z",
     "start_time": "2025-05-15T17:22:13.760437Z"
    }
   },
   "outputs": [],
   "source": [
    "# --- Initialize LLM and Embedder ---\n",
    "llm = OpenAILLM(model_name='gpt-4o', api_key=OPENAI_API_KEY)\n",
    "embedder = OpenAIEmbeddings(api_key=OPENAI_API_KEY)"
   ]
  },
  {
   "cell_type": "markdown",
   "id": "d417679d",
   "metadata": {},
   "source": [
    "## About Vector Search\n",
    "\n",
    "Vector search enables semantic retrieval of text chunks from your Neo4j graph.  \n",
    "Instead of keyword matching, it finds the most contextually similar passages to your query, even if the wording is different.\n",
    "\n",
    "**Tip:**  \n",
    "Inspect the returned results to verify relevance and adjust your chunking or embedding strategy if needed."
   ]
  },
  {
   "cell_type": "markdown",
   "id": "90c283c9",
   "metadata": {},
   "source": [
    "# Initialize Vector Retriever\n",
    "This section sets up the vector-based retriever for semantic search over your Neo4j knowledge graph.\n",
    "\n",
    "- **Query:**  \n",
    "  The example query asks, \"What are the risks that Apple faces?\"\n",
    "\n",
    "- **VectorRetriever:**  \n",
    "  - Connects to the Neo4j database using the provided `driver`.\n",
    "  - Uses the `chunkEmbeddings` vector index for efficient semantic retrieval.\n",
    "  - The `embedder` generates embeddings for the query.\n",
    "  - Returns the `text` property from matching chunks.\n",
    "\n",
    "> **Tip:**  \n",
    "> You can modify the `return_properties` list to include additional properties from the retrieved nodes if needed."
   ]
  },
  {
   "cell_type": "code",
   "execution_count": null,
   "id": "e7e09ff0ef1b105a",
   "metadata": {
    "ExecuteTime": {
     "end_time": "2025-05-15T17:22:17.628329Z",
     "start_time": "2025-05-15T17:22:16.543338Z"
    }
   },
   "outputs": [],
   "source": [
    "# --- Initialize Vector Retriever ---\n",
    "query = \"What are the risks that Apple faces?\"\n",
    "\n",
    "vector_retriever = VectorRetriever(\n",
    "    driver=driver,\n",
    "    index_name='chunkEmbeddings',\n",
    "    embedder=embedder,\n",
    "    return_properties=['text'])"
   ]
  },
  {
   "cell_type": "markdown",
   "id": "a8bf0a0b",
   "metadata": {},
   "source": [
    "# Simple Vector Search Diagnostic \n",
    "\n",
    "This section performs a diagnostic semantic search using the vector retriever.\n",
    "\n",
    "- **Purpose:**  \n",
    "  Quickly test the vector search by retrieving the top 10 most relevant text chunks from the Neo4j knowledge graph for the given query.\n",
    "\n",
    "- **How it works:**  \n",
    "  1. `vector_retriever.search()` runs the query and returns the top 10 matches based on vector similarity.\n",
    "  2. The results are formatted into a pandas DataFrame, displaying:\n",
    "     - The similarity score (`Score`)\n",
    "     - A snippet of the retrieved content (`Content`)\n",
    "     - The unique identifier for each chunk (`ID`)\n",
    "\n",
    "- **Usage:**  \n",
    "  This diagnostic helps you verify that the vector search is working and inspect the quality of the top results for your query.\n"
   ]
  },
  {
   "cell_type": "code",
   "execution_count": null,
   "id": "8d543d30d99d819f",
   "metadata": {
    "ExecuteTime": {
     "end_time": "2025-05-15T17:22:20.572356Z",
     "start_time": "2025-05-15T17:22:19.603347Z"
    }
   },
   "outputs": [],
   "source": [
    "# --- Simple Vector Search Diagnostic ---\n",
    "result = vector_retriever.search(query_text=query, top_k=10)\n",
    "result_table=pd.DataFrame([(item.metadata['score'], item.content[10:80], item.metadata['id']) for item in result.items], columns=['Score', 'Content', 'ID'])\n",
    "result_table"
   ]
  },
  {
   "cell_type": "markdown",
   "id": "3df02256",
   "metadata": {},
   "source": [
    "# Retrieval-Augmented Generation (RAG) Query\n",
    "\n",
    "This section demonstrates how to use the `GraphRAG` class to perform a retrieval-augmented generation workflow:\n",
    "\n",
    "- **GraphRAG**:  \n",
    "  Combines a Large Language Model (LLM) with a vector-based retriever to answer questions using both semantic search and generative reasoning.\n",
    "\n",
    "- **How it works:**  \n",
    "  1. The retriever (`vector_retriever`) finds the most relevant text chunks from the Neo4j graph based on the input query.\n",
    "  2. The LLM (`llm`) uses the retrieved context to generate a natural language answer.\n",
    "  3. The answer is printed directly.\n",
    "\n",
    "- **Usage:**  \n",
    "  This approach provides context-aware, accurate answers grounded in your knowledge graph data.\n"
   ]
  },
  {
   "cell_type": "code",
   "execution_count": null,
   "id": "43ab17e4",
   "metadata": {
    "ExecuteTime": {
     "end_time": "2025-05-15T17:22:37.964468Z",
     "start_time": "2025-05-15T17:22:28.597650Z"
    }
   },
   "outputs": [],
   "source": [
    "rag = GraphRAG(\n",
    "    llm=llm,\n",
    "    retriever=vector_retriever\n",
    ")\n",
    "print(rag.search(query).answer)"
   ]
  },
  {
   "cell_type": "markdown",
   "id": "1645004b",
   "metadata": {},
   "source": [
    "## Advanced RAG: Contextual Cypher Retrieval\n",
    "\n",
    "This section demonstrates how to use a custom Cypher query with the `VectorCypherRetriever` to provide richer, more contextual answers.\n",
    "\n",
    "- **Custom Cypher Query:**  \n",
    "  The `detail_context_query` matches text chunks (`node`) to their source documents, associated companies, and the risk factors those companies face.  \n",
    "  It returns:\n",
    "  - The company name\n",
    "  - The context text from the chunk\n",
    "  - A list of distinct risk factors\n",
    "\n",
    "- **VectorCypherRetriever:**  \n",
    "  - Performs semantic search using the `chunkEmbeddings` vector index.\n",
    "  - Applies the custom Cypher query to retrieve relevant context and associated risk factors.\n",
    "\n",
    "- **GraphRAG:**  \n",
    "  - Combines the LLM and the custom retriever to answer the question:  \n",
    "    _\"What are the top risk factors that Apple faces?\"_\n",
    "\n",
    "- **Usage:**  \n",
    "  This approach enables highly specific, context-rich answers by leveraging the full power of graph relationships and semantic search."
   ]
  },
  {
   "cell_type": "code",
   "execution_count": null,
   "id": "af3edd9c",
   "metadata": {
    "ExecuteTime": {
     "end_time": "2025-05-15T17:23:13.719547Z",
     "start_time": "2025-05-15T17:23:13.095517Z"
    }
   },
   "outputs": [],
   "source": [
    "# --- VectorCypherRetriever Example: Detailed Search with Context ---  OR WHY THIS IS A BAD QUERY :)\n",
    "detail_context_query = \"\"\"\n",
    "WITH node\n",
    "MATCH (node)-[:FROM_DOCUMENT]-(doc:Document)-[:FILED]-(company:Company)-[:FACES_RISK]-(risk:RiskFactor)\n",
    "RETURN company.name AS company,  node.text AS context, collect(DISTINCT risk.name) AS risks\n",
    "\"\"\"\n",
    "\n",
    "vector_cypher_retriever = VectorCypherRetriever(\n",
    "    driver=driver,\n",
    "    index_name='chunkEmbeddings',\n",
    "    embedder=embedder,\n",
    "    retrieval_query=detail_context_query\n",
    ")\n"
   ]
  },
  {
   "cell_type": "code",
   "execution_count": null,
   "id": "7c0ccec7",
   "metadata": {
    "ExecuteTime": {
     "end_time": "2025-05-15T17:23:38.183889Z",
     "start_time": "2025-05-15T17:23:23.022380Z"
    }
   },
   "outputs": [],
   "source": [
    "\n",
    "rag = GraphRAG(llm=llm, retriever=vector_cypher_retriever)\n",
    "query = \"What are the top risk factors that Apple faces?\"\n",
    "print(rag.search(query).answer)"
   ]
  },
  {
   "cell_type": "code",
   "execution_count": null,
   "id": "98496584",
   "metadata": {
    "ExecuteTime": {
     "end_time": "2025-05-15T17:23:48.777726Z",
     "start_time": "2025-05-15T17:23:47.119597Z"
    }
   },
   "outputs": [],
   "source": [
    "result = vector_cypher_retriever.search(query_text=query, top_k=10)\n",
    "for item in result.items:\n",
    "    print(item.content[:100])\n"
   ]
  },
  {
   "cell_type": "code",
   "execution_count": null,
   "id": "280e3682",
   "metadata": {
    "ExecuteTime": {
     "end_time": "2025-05-15T17:23:55.766704Z",
     "start_time": "2025-05-15T17:23:54.869063Z"
    }
   },
   "outputs": [],
   "source": [
    "result = vector_cypher_retriever.search(query_text=query, top_k=20)\n",
    "for item in result.items:\n",
    "    print(item.content[:100])\n"
   ]
  },
  {
   "cell_type": "markdown",
   "id": "87acb0e8",
   "metadata": {},
   "source": [
    "## Why \"Apple\" Queries Can Fail in Vector-Cypher Retrieval\n",
    "\n",
    "When you ask a question like \"What are the risks that Apple faces?\" using a vector-Cypher retriever, you may not get the structured or complete answer you expect. Here’s why:\n",
    "\n",
    "- **How Vector-Cypher Works:**  \n",
    "  - The retrieval process first performs a semantic search over all text chunks in the graph.\n",
    "  - It retrieves the top-k chunks most similar to your query—regardless of which company (or entity) they are about.\n",
    "  - The Cypher query then starts from each chunk and traverses the graph for related information.\n",
    "\n",
    "- **The Problem with Entity-Centric Queries:**  \n",
    "  - If your query is about \"Apple,\" but there are no chunks whose text is semantically similar to your query and also specifically about Apple, the retriever may return:\n",
    "    - Chunks about other companies.\n",
    "    - Chunks that mention \"risk\" but not \"Apple.\"\n",
    "    - Generic or boilerplate risk factor text.\n",
    "  - The Cypher query can only traverse from the retrieved chunk—it cannot \"filter\" or \"redirect\" to Apple if the chunk isn’t already about Apple.\n",
    "\n",
    "- **Key Limitation:**  \n",
    "  - **The chunk is the anchor.** If your query is about an entity (like Apple), but the chunk retrieval is not entity-aware, you may never reach the correct node or context in the graph.\n",
    "  - This is especially problematic for broad or entity-centric questions, where you want to aggregate or summarize information about a specific node (e.g., a company) rather than just retrieve semantically similar passages.\n",
    "\n",
    "> **Conclusion:**  \n",
    "> Vector-Cypher retrieval is powerful for finding relevant context, but it is fundamentally limited by the chunk-centric approach. For entity-centric questions, you need either:\n",
    "> - Chunks that are explicitly about the entity, or\n",
    "> - A retrieval/query strategy that starts from the entity node itself, not from arbitrary text chunks."
   ]
  },
  {
   "cell_type": "code",
   "execution_count": null,
   "id": "c18d5973",
   "metadata": {
    "ExecuteTime": {
     "end_time": "2025-05-15T17:27:18.382497Z",
     "start_time": "2025-05-15T17:27:16.362155Z"
    }
   },
   "outputs": [],
   "source": [
    "# --- VectorCypherRetriever Example: Detailed Search with Context ---  OR WHY THIS IS A GOOD QUERY :)\n",
    "query_text = \"Which Asset Managers are most affected by cryptocurrency policies?\"\n",
    "\n",
    "chunk_to_asset_manager_query = \"\"\"\n",
    "WITH node\n",
    "MATCH (node)-[:FROM_DOCUMENT]-(doc:Document)-[:FILED]-(company:Company)-[:OWNS]-(manager:AssetManager)\n",
    "RETURN company.name AS company, manager.managerName AS AssetManagerWithSharesInCompany, node.text AS context\n",
    "\"\"\"\n",
    "\n",
    "vector_cypher_retriever = VectorCypherRetriever(\n",
    "    driver=driver,\n",
    "    index_name='chunkEmbeddings',\n",
    "    embedder=embedder,\n",
    "    retrieval_query=chunk_to_asset_manager_query\n",
    ")\n",
    "\n",
    "result = vector_cypher_retriever.search(query_text=query_text, top_k=10)\n",
    "for item in result.items:\n",
    "    print(item.content[:200])\n"
   ]
  },
  {
   "cell_type": "code",
   "execution_count": null,
   "id": "d2b0d58a",
   "metadata": {
    "ExecuteTime": {
     "end_time": "2025-05-15T17:27:36.584042Z",
     "start_time": "2025-05-15T17:27:23.781140Z"
    }
   },
   "outputs": [],
   "source": [
    "rag = GraphRAG(llm=llm, retriever=vector_cypher_retriever)\n",
    "print(rag.search(query_text=query_text).answer)"
   ]
  },
  {
   "cell_type": "markdown",
   "id": "005183dc",
   "metadata": {},
   "source": [
    "## VectorCypherRetriever Example: Detailed Search with Context — Why This Is a Good Query\n",
    "\n",
    "This example demonstrates how to use `VectorCypherRetriever` to answer nuanced, relationship-driven questions by combining semantic search with graph traversal.\n",
    "\n",
    "**Why this is a good query:**\n",
    "\n",
    "- **Semantic Relevance:**  \n",
    "  The vector retriever surfaces text chunks that are semantically similar to the question (\"Who are the asset managers most affected by banking regulations?\"). This grounds the search in passages that actually discuss asset managers and regulations.\n",
    "\n",
    "- **Graph Contextualization:**  \n",
    "  The Cypher query starts from each relevant chunk and traverses the graph to:\n",
    "    - Find the source document.\n",
    "    - Identify the company associated with the document.\n",
    "    - Traverse to asset managers that own or are related to that company.\n",
    "\n",
    "- **Structured and Contextual Output:**  \n",
    "  The result provides:\n",
    "    - The company name (`company`)\n",
    "    - The asset manager’s name (`manager`)\n",
    "    - The text context from the original chunk (`context`)\n",
    "\n",
    "- **Why it works well:**  \n",
    "  - The question is naturally chunk-centric: you want to find meaningful passages about asset managers and regulations, then extract structured information about the entities involved.\n",
    "  - The graph traversal enriches the answer, linking unstructured context (text) to structured graph entities (companies, managers).\n",
    "  - This approach leverages the best of both worlds: semantic search for relevance, and graph queries for structure and relationships.\n",
    "\n",
    "**Summary:**  \n",
    "This pattern is ideal when your question is about relationships or context that can be surfaced from relevant passages, and when you want to return both the context and the structured entities connected to it.  \n",
    "It is less effective for purely entity-centric aggregation (like \"all risks for Apple\"), but perfect for questions where the chunk is the natural anchor for graph exploration.\n"
   ]
  },
  {
   "cell_type": "code",
   "execution_count": null,
   "id": "3dd5e103",
   "metadata": {
    "ExecuteTime": {
     "end_time": "2025-05-15T17:30:05.177405Z",
     "start_time": "2025-05-15T17:30:04.159640Z"
    }
   },
   "outputs": [],
   "source": [
    "## VectorCypherRetriever Example: Detailed Search with Context ---  OR WHY THIS IS A GOOD QUERY :)\n",
    "asset_manager_query = \"\"\"\n",
    "WITH node\n",
    "MATCH (node)-[:FROM_DOCUMENT]-(doc:Document)-[:FILED]-(company:Company)-[:OWNS]-(manager:AssetManager)\n",
    "RETURN company.name AS company, manager.managerName AS AssetManagerWithSharesInCompany, node.text AS context\n",
    "\"\"\"\n",
    "\n",
    "vector_cypher_retriever = VectorCypherRetriever(\n",
    "    driver=driver,\n",
    "    index_name='chunkEmbeddings',\n",
    "    embedder=embedder,\n",
    "    retrieval_query=asset_manager_query\n",
    ")\n"
   ]
  },
  {
   "cell_type": "code",
   "execution_count": null,
   "id": "28c3f580",
   "metadata": {
    "ExecuteTime": {
     "end_time": "2025-05-15T17:30:13.837122Z",
     "start_time": "2025-05-15T17:30:08.474790Z"
    }
   },
   "outputs": [],
   "source": [
    "rag = GraphRAG(llm=llm, retriever=vector_cypher_retriever)\n",
    "query = \"Who are the asset managers most affected by banking regulations?\"\n",
    "print(rag.search(query).answer)"
   ]
  },
  {
   "cell_type": "code",
   "execution_count": null,
   "id": "fd59d5d49f393a45",
   "metadata": {
    "ExecuteTime": {
     "end_time": "2025-05-15T17:30:24.801826Z",
     "start_time": "2025-05-15T17:30:23.418453Z"
    }
   },
   "outputs": [],
   "source": [
    "result = vector_cypher_retriever.search(query_text=query)\n",
    "for item in result.items:\n",
    "    print(item.content[:200])"
   ]
  },
  {
   "cell_type": "markdown",
   "id": "f5eab943",
   "metadata": {},
   "source": [
    "\n",
    "## VectorCypherRetriever Example: Finding Shared Risks Among Companies\n",
    "\n",
    "This example demonstrates how to combine semantic search with graph traversal to uncover relationships—specifically, risks that connect major tech companies.\n",
    "\n",
    "**How this query works:**\n",
    "\n",
    "- **Semantic Search:**  \n",
    "  The vector retriever finds the top-k text chunks most relevant to your query (\"What risks connect major tech companies?\").\n",
    "\n",
    "- **Graph Traversal:**  \n",
    "  For each retrieved chunk (`node`):\n",
    "  - Follows the `:FROM_DOCUMENT` and `:FILED` relationships to a company (`c1`).\n",
    "  - Finds all risk factors (`risk`) that `c1` faces.\n",
    "  - Finds other companies (`c2`) that also face the same risk factor.\n",
    "  - Ensures that `c1` and `c2` are different companies.\n",
    "\n",
    "- **Returns:**  \n",
    "  - `source_company`: The company from the retrieved chunk.\n",
    "  - `related_companies`: Companies sharing at least one risk with the source company.\n",
    "  - `shared_risks`: The names of the risk factors connecting these companies.\n",
    "\n",
    "- **Why this is powerful:**  \n",
    "  - Leverages the chunk as the semantic anchor, but then uses graph logic to discover structured, multi-entity relationships.\n",
    "  - Surfaces both the context (from the chunk) and the broader network of shared risks—something that pure semantic or pure graph search alone would struggle to do as effectively.\n",
    "\n",
    "> **Summary:**  \n",
    "> This approach is ideal for exploratory questions about relationships in your graph, where you want to start from relevant context but end up with structured, comparative insights.\n"
   ]
  },
  {
   "cell_type": "code",
   "execution_count": null,
   "id": "ea869189",
   "metadata": {
    "ExecuteTime": {
     "end_time": "2025-05-15T17:30:54.588779Z",
     "start_time": "2025-05-15T17:30:53.216997Z"
    }
   },
   "outputs": [],
   "source": [
    "vector_company_risk_query = \"\"\"\n",
    "WITH node\n",
    "MATCH (node)-[:FROM_DOCUMENT]-(doc:Document)-[:FILED]-(c1:Company)\n",
    "MATCH (c1)-[:FACES_RISK]-(risk:RiskFactor)-[:FACES_RISK]-(c2:Company)\n",
    "WHERE c1 <> c2\n",
    "RETURN\n",
    "  c1.name AS source_company,\n",
    "  collect(DISTINCT c2.name) AS related_companies,\n",
    "  collect(DISTINCT risk.name) AS shared_risks\n",
    "LIMIT 10\n",
    "\"\"\"\n",
    "\n",
    "vector_cypher_retriever = VectorCypherRetriever(\n",
    "    driver=driver,\n",
    "    index_name=\"chunkEmbeddings\",\n",
    "    embedder=embedder,\n",
    "    retrieval_query=vector_company_risk_query\n",
    ")\n",
    "\n",
    "query = \"What risks connect major tech companies?\"\n",
    "result = vector_cypher_retriever.search(query_text=query, top_k=5)\n",
    "for item in result.items:\n",
    "    print(item.content)"
   ]
  },
  {
   "cell_type": "code",
   "execution_count": null,
   "id": "8dba3a38",
   "metadata": {
    "ExecuteTime": {
     "end_time": "2025-05-15T17:30:59.058765Z",
     "start_time": "2025-05-15T17:30:56.845736Z"
    }
   },
   "outputs": [],
   "source": [
    "rag = GraphRAG(llm=llm, retriever=vector_cypher_retriever)\n",
    "print(rag.search(query).answer)"
   ]
  },
  {
   "attachments": {
    "image.png": {
     "image/png": "[encoded data removed]"
    }
   },
   "cell_type": "markdown",
   "id": "8e4a0d93",
   "metadata": {},
   "source": [
    "![image.png](attachment:image.png)"
   ]
  },
  {
   "cell_type": "markdown",
   "id": "3f54e473",
   "metadata": {},
   "source": [
    "## Text2CypherRetriever Example\n",
    "\n",
    "This section demonstrates how to use the `Text2CypherRetriever` to automatically generate Cypher queries from natural language questions.\n",
    "\n",
    "**How it works:**\n",
    "- The retriever uses a Large Language Model (LLM) to translate your plain-English query into a Cypher query, based on your Neo4j schema.\n",
    "- The schema is provided as a string describing the main node types and relationships in your graph (e.g., companies, risk factors, asset managers).\n",
    "\n",
    "**Example Workflow:**\n",
    "1. You provide a natural language question, such as:\n",
    "   > \"What are the company names of companies owned by BlackRock Inc.\"\n",
    "2. The retriever generates a corresponding Cypher query using the schema and the LLM.\n",
    "3. The generated Cypher is printed, allowing you to inspect or execute it.\n",
    "\n",
    "**Why this is powerful:**\n",
    "- Removes the need to manually write Cypher for each question.\n",
    "- Makes graph querying accessible to non-technical users.\n",
    "- Great for rapid prototyping, exploration, and building natural language interfaces to your knowledge graph.\n"
   ]
  },
  {
   "cell_type": "markdown",
   "id": "b6a04ba5",
   "metadata": {},
   "source": [
    "\n",
    "The following schema was retrieved from the connected Neo4j database using `get_schema(driver)`:\n"
   ]
  },
  {
   "cell_type": "code",
   "execution_count": null,
   "id": "40db65f5",
   "metadata": {
    "ExecuteTime": {
     "end_time": "2025-05-15T17:31:21.909590Z",
     "start_time": "2025-05-15T17:31:20.655226Z"
    }
   },
   "outputs": [],
   "source": [
    "schema = get_schema(driver)\n",
    "print(schema)"
   ]
  },
  {
   "cell_type": "code",
   "execution_count": null,
   "id": "ca64551c",
   "metadata": {
    "ExecuteTime": {
     "end_time": "2025-05-15T17:31:27.348716Z",
     "start_time": "2025-05-15T17:31:25.520999Z"
    }
   },
   "outputs": [],
   "source": [
    "# --- Text2CypherRetriever Example ---\n",
    "from requests import session\n",
    "\n",
    "print(\"\\n--- Text2CypherRetriever Example ---\")\n",
    "text2cypher_retriever = Text2CypherRetriever(\n",
    "    driver=driver,\n",
    "    llm=llm,\n",
    "    neo4j_schema= schema\n",
    ")\n",
    "\n",
    "query = \"what are the company names of companies owned by BlackRock Inc.\"\n",
    "cypher_query = text2cypher_retriever.get_search_results(query)\n",
    "print(\"\\n--- Text2Cypher Output ---\")\n",
    "print(\"Original Query:\", query)\n",
    "print(\"Generated Cypher:\\n\", cypher_query.metadata[\"cypher\"])\n"
   ]
  },
  {
   "cell_type": "markdown",
   "id": "1a9f4872",
   "metadata": {},
   "source": [
    "## Executing the Generated Cypher Query\n",
    "\n",
    "This section runs the Cypher query generated by the `Text2CypherRetriever` and displays the results.\n",
    "\n",
    "**How it works:**\n",
    "- The Cypher query, generated from your natural language question, is executed directly against the Neo4j database using the `driver`.\n",
    "- Each record returned by the query is printed for inspection.\n",
    "\n",
    "**Why this is useful:**\n",
    "- Allows you to see the actual data returned from your graph for your question, closing the loop from natural language to structured results.\n",
    "- Lets you verify both the correctness of the generated Cypher and the quality of the graph data.\n",
    "\n",
    "**Typical workflow:**\n",
    "1. Use the retriever to generate Cypher from your question.\n",
    "2. Execute the Cypher and review the results.\n",
    "3. Iterate on your question or schema as needed to improve answers.\n"
   ]
  },
  {
   "cell_type": "code",
   "execution_count": null,
   "id": "1753418d",
   "metadata": {
    "ExecuteTime": {
     "end_time": "2025-05-15T17:31:33.763355Z",
     "start_time": "2025-05-15T17:31:33.288344Z"
    }
   },
   "outputs": [],
   "source": [
    "result = driver.execute_query(cypher_query.metadata[\"cypher\"])\n",
    "for record in result.records:\n",
    "    print(record)"
   ]
  },
  {
   "cell_type": "markdown",
   "id": "6d570212",
   "metadata": {},
   "source": [
    "## Next Steps & Troubleshooting\n",
    "\n",
    "- Try different queries to explore your knowledge graph.\n",
    "- If you encounter errors, check your environment variables and ensure all dependencies are installed.\n",
    "- For advanced graph exploration, see the optional agent notebook (`04_Neo4j_agent_notebook.ipynb`).</p>\n",
    "\n",
    ">\n",
    "> **Need help?**  \n",
    "> Refer to the project README or open an issue in the repository."
   ]
  },
  {
   "cell_type": "markdown",
   "id": "9fd91854",
   "metadata": {},
   "source": []
  }
 ],
 "metadata": {
  "kernelspec": {
   "display_name": ".venv",
   "language": "python",
   "name": "python3"
  },
  "language_info": {
   "codemirror_mode": {
    "name": "ipython",
    "version": 3
   },
   "file_extension": ".py",
   "mimetype": "text/x-python",
   "name": "python",
   "nbconvert_exporter": "python",
   "pygments_lexer": "ipython3",
   "version": "3.12.3"
  }
 },
 "nbformat": 4,
 "nbformat_minor": 5
}
